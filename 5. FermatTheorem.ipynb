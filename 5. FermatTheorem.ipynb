{
 "cells": [
  {
   "cell_type": "markdown",
   "id": "07138198",
   "metadata": {},
   "source": [
    "# Fermat's Theorem\n",
    "##### 페르마의 정리"
   ]
  },
  {
   "cell_type": "markdown",
   "id": "37667a49",
   "metadata": {},
   "source": [
    "- 페르마의 정리\n",
    "    - p를 소수 그리고 $p∤a$(나누어 떨어지지 않는다)라 하면, $a^{n-1} \\equiv 1 \\,(mod \\,q)$이다\n",
    "    - p를 소수라 하면 모든 정수 a에 대해 $a^p \\equiv a(mod \\,p)$이다."
   ]
  },
  {
   "cell_type": "markdown",
   "id": "7f626c95",
   "metadata": {},
   "source": [
    "# 코드로구현하기"
   ]
  },
  {
   "cell_type": "markdown",
   "id": "99ed266b",
   "metadata": {},
   "source": [
    "이를 코드로 구현하면 다음과 같다."
   ]
  },
  {
   "cell_type": "code",
   "execution_count": 1,
   "id": "dfcdb882",
   "metadata": {},
   "outputs": [
    {
     "name": "stdout",
     "output_type": "stream",
     "text": [
      "5^110 mod 131 = 60\n"
     ]
    }
   ],
   "source": [
    "# 이진 지수 알고리즘 (Binary Exponentiation)\n",
    "def binary_exponentiation(a, b, m):\n",
    "    result = 1\n",
    "    a = a % m\n",
    "    while b > 0:\n",
    "        if b % 2 == 1:\n",
    "            result = (result * a) % m\n",
    "        a = (a * a) % m\n",
    "        b //= 2\n",
    "    return result\n",
    "\n",
    "# 테스트\n",
    "a = 5\n",
    "b = 110\n",
    "m = 131\n",
    "result = binary_exponentiation(a, b, m)\n",
    "\n",
    "# 결과 출력\n",
    "print(f\"{a}^{b} mod {m} = {result}\")\n"
   ]
  }
 ],
 "metadata": {
  "kernelspec": {
   "display_name": "Python 3",
   "language": "python",
   "name": "python3"
  },
  "language_info": {
   "codemirror_mode": {
    "name": "ipython",
    "version": 3
   },
   "file_extension": ".py",
   "mimetype": "text/x-python",
   "name": "python",
   "nbconvert_exporter": "python",
   "pygments_lexer": "ipython3",
   "version": "3.10.12"
  }
 },
 "nbformat": 4,
 "nbformat_minor": 5
}
