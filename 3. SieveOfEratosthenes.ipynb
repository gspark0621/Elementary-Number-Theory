{
 "cells": [
  {
   "cell_type": "markdown",
   "id": "07138198",
   "metadata": {},
   "source": [
    "# Sieve of Eratosthenes\n",
    "##### 소수를 구하는 방식\n"
   ]
  },
  {
   "cell_type": "markdown",
   "id": "37667a49",
   "metadata": {},
   "source": [
    "- 주어진 정수에 대해 소수인지 합성수인지 판별하는 방법\n",
    "    - 개념\n",
    "        - 만약 정수 $a>1$가 합성수이면, $1<b<a$, $1<c<a$ 인 b, c에 대해 a=bc로 쓸 수 있다.\n",
    "        - $b \\leq c$라 가정하면, $b^2 \\leq bc = a$이고, 따라서 $b\\leq \\sqrt{a}$ 이다.\n",
    "        - b는 하나 이상의 소인수 p를 가지고 $p \\leq b \\leq \\sqrt{a}$를 만족한다.\n",
    "        - 즉, 합성수 a는 언제나 $p \\leq \\sqrt{a} $를 만족하는 소인수 p를 가진다.\n",
    "    - 풀이 방식\n",
    "        - 1보다 큰 a에 대하여 $\\sqrt{a}$보다 작은 소수로 나누면 판별이 가능하다.\n",
    "        - ex. a=509일 때,\n",
    "\n",
    "          $22<\\sqrt{509}<23 $이므로\n",
    "\n",
    "          22보다 작은 소수 2, 3, 5, 7, 11, 13, 17, 19으로 509를 나누어 보면 된다.\n",
    "\n",
    "          각각으로 509를 나누어 보면, 어떤 것도 509의 약수가 아니므로 509는 소수이다."
   ]
  },
  {
   "cell_type": "markdown",
   "id": "2083caf8",
   "metadata": {},
   "source": [
    "- 에라토스테네스의 체(Sieve of Eratosthenes)\n",
    "    - 에라토스테네스는 위 식을 이용하여 어떤 정수 n보다 작은 모든 소수들을 찾는 방식\n",
    "    - 소인수의 배수들은 소수가 아니므로 소수가 아니므로 $ p \\leq \\sqrt{a}$인 p의 배수들을 체로 걸러내듯이 걸러낸 나머지들은 모두 소수이다.\n",
    "    - ex. a= 100일 때, $p \\leq \\sqrt{100}(10)$에 대하여\n",
    "\n",
    "      p = 2는 소수이므로 2의 배수는 모두 걸러낸다.\n",
    "\n",
    "      p = 3은 소수이므로 3의 배수는 모두 걸러낸다.\n",
    "\n",
    "      p = 4는 2의 배수이므로 이미 모두 걸러졌다.\n",
    "\n",
    "      p = 5는 소수이므로 5의 배수는 모두 걸러낸다.\n",
    "\n",
    "      p = 6은 2와 3의 배수이므로 이미 모두 걸러졌다.\n",
    "\n",
    "      p = 7은 소수이므로 7의 배수는 모두 걸러낸다.\n",
    "\n",
    "      p = 8은 2의 배수이므로 이미 모두 걸러졌다.\n",
    "\n",
    "      p = 9는 3의 배수이므로 이미 모두 걸러졌다.\n",
    "\n",
    "      p = 10는 2와 5의 배수이므로 이미 모두 걸러졌다.\n",
    "\n",
    "      즉, 나머지 2, 3, 5, 7, 11, 13, 17, 19, 23, 29, 31, 37, 41, 43, 47, 53, 59, 61, 67, 71, 73, 79, 83, 89, 97은 모두 100보다 작은 소수이다."
   ]
  },
  {
   "cell_type": "markdown",
   "id": "99ed266b",
   "metadata": {},
   "source": [
    "이를 코드로 구현하면 다음과 같다."
   ]
  },
  {
   "cell_type": "code",
   "execution_count": 3,
   "id": "dfcdb882",
   "metadata": {},
   "outputs": [
    {
     "name": "stdout",
     "output_type": "stream",
     "text": [
      "입력한 100까지의 소수 : [2, 3, 5, 7, 11, 13, 17, 19, 23, 29, 31, 37, 41, 43, 47, 53, 59, 61, 67, 71, 73, 79, 83, 89, 97]\n"
     ]
    }
   ],
   "source": [
    "import math\n",
    "\n",
    "# gcd 구현 함수 (확장 유클리드 알고리즘)\n",
    "def eratosthenes(n):\n",
    "    primes = []\n",
    "    is_prime = [True] * (n + 1)\n",
    "    for p in range(2, int(math.sqrt(n)) + 1):\n",
    "        if is_prime[p]:\n",
    "            for i in range(p * p, n + 1, p):\n",
    "                is_prime[i] = False\n",
    "    for p in range(2, n + 1):\n",
    "        if is_prime[p]:\n",
    "            primes.append(p)\n",
    "    return primes\n",
    "\n",
    "\n",
    "# 테스트\n",
    "a = 100\n",
    "result = eratosthenes(a)\n",
    "# 결과 출력\n",
    "print(f\"입력한 {a}까지의 소수 :\", result)\n"
   ]
  },
  {
   "cell_type": "markdown",
   "id": "32810c4c",
   "metadata": {},
   "source": [
    "cf)\n",
    " - 유클리드 수\n",
    "    - 소수 p에 대해 $p^\\#$을 p보다 작거나 같은 모든 소수들의 곱이라고 했을 때, $p^\\# +1$형태의 정수\n",
    "    - Ex.\n",
    "    \n",
    "      $2^\\# +1$ = 2+1 = 3\n",
    "\n",
    "      $3^\\# +1$ = 2·3 + 1 = 7\n",
    "    \n",
    "      $5^\\# +1$ = 2·3·5 + 1 = 31\n",
    " - 반복수(repunit)\n",
    "    - 11, 111, 1111... 등 1의 연속되는 배열로 이루어진 수(10진법 표현)\n",
    "    - $(10^n -1)/9$로 표현 가능"
   ]
  },
  {
   "cell_type": "markdown",
   "id": "ab4fe2f9",
   "metadata": {},
   "source": []
  }
 ],
 "metadata": {
  "kernelspec": {
   "display_name": "Python 3",
   "language": "python",
   "name": "python3"
  },
  "language_info": {
   "codemirror_mode": {
    "name": "ipython",
    "version": 3
   },
   "file_extension": ".py",
   "mimetype": "text/x-python",
   "name": "python",
   "nbconvert_exporter": "python",
   "pygments_lexer": "ipython3",
   "version": "3.10.12"
  }
 },
 "nbformat": 4,
 "nbformat_minor": 5
}
