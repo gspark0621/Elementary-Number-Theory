{
 "cells": [
  {
   "cell_type": "markdown",
   "id": "07138198",
   "metadata": {},
   "source": [
    "# Euclidean Algorithm\n",
    "##### 두 정수의 최대공약수를 구하는 방식"
   ]
  },
  {
   "cell_type": "markdown",
   "id": "37667a49",
   "metadata": {},
   "source": [
    "- 두 정수 a,b의 최대 공약수를 gcd(a,b)라고 한다. a $\\geq$ b $>$ 0라고 하자. (b $\\geq$ a $>$ 0여도 상관없다.)\n",
    "\n",
    "\n",
    "    나눗셈 정리에 의해\n",
    "\n",
    "\n",
    "    a = $q_1$ b+ $r_1$ (0 $\\leq$ $r_1$ $\\leq$ b)\n",
    "\n",
    "\n",
    "    b = $q_2$ $r_1$ + $r_2$ (0 $\\leq$ $r_2$ $\\leq$ $r_1$)\n",
    "\n",
    "\n",
    "    $r_1$ = $q_3$ $r_2$ + $r_3$ (0 $\\leq$ $r_3$ $\\leq$ $r_2$)\n",
    "\n",
    "\n",
    "    $\\vdots$ \n",
    "\n",
    "\n",
    "    $r_{n-2}$ = $q_n$ $r_{n-1}$ + $r_n$ (0 $\\leq$ $r_n$ $\\leq$ $r_{n-1}$)\n",
    "\n",
    "\n",
    "    $r_{n-1}$ = $q_{n+1}$ $r_n$ + 0\n"
   ]
  },
  {
   "cell_type": "markdown",
   "id": "38f1a6fd",
   "metadata": {},
   "source": [
    "- Ex. $gcd(12378, 3054)$\n",
    "    \n",
    "    - 연산 1\n",
    "    \n",
    "        $12378 = 4 \\cdot 3054 + 162$\n",
    "        \n",
    "        $3054 = 18 \\cdot 162 + 138$\n",
    "        \n",
    "        $162 = 1 \\cdot 138 + 24$\n",
    "        \n",
    "        $138 = 5 \\cdot 24 + 18$\n",
    "        \n",
    "        $24 = 1 \\cdot 18 + 6$\n",
    "        \n",
    "        $18 = 3 \\cdot 6 + 0$\n",
    "        \n",
    "        따라서 $gcd(12378,3054) = 6$ \n",
    "    - 연산 2\n",
    "    \n",
    "        $6 = 24 - 1 \\cdot 18$\n",
    "    \n",
    "        $\\quad= 24 - (138 - 5 \\cdot 24) $\n",
    "\n",
    "        $\\quad= 6 \\cdot 24 - 138 $\n",
    "\n",
    "        $\\quad= 6 \\cdot (162 - 138) - 138$\n",
    "\n",
    "        $\\quad= 6 \\cdot 162 - 7 \\cdot 138$\n",
    "\n",
    "        $\\quad= 6 \\cdot 162 - 7 \\cdot (3054 - 18 \\cot 162)$\n",
    "\n",
    "        $\\quad= 132 \\cdot 162 - 7 \\cdot 3054 $\n",
    "\n",
    "        $\\quad= 132 \\cdot (12378- 4 \\cdot 3054) - 7 \\cdot 3054 $\n",
    "\n",
    "        $\\quad= 132 \\cdot 12378 - (-535) \\cdot 3054 $\n",
    "\n",
    "        따라서 $x= 132, y = -535$ 인 식\n",
    "\n",
    "        $6 = 12378x+3054y$ 를 얻음."
   ]
  },
  {
   "cell_type": "markdown",
   "id": "be6e4f07",
   "metadata": {},
   "source": [
    "- 0이 아닌 두 정수 a,b의 최소공배수는 lcm(a,b)로 표현하며, 다음의 공식이 성립한다.\n",
    "\n",
    "    $gcd(a,b) \\cdot lcm(a,b) = ab $\n"
   ]
  },
  {
   "cell_type": "markdown",
   "id": "99ed266b",
   "metadata": {},
   "source": [
    "이를 코드로 구현하면 다음과 같다."
   ]
  },
  {
   "cell_type": "code",
   "execution_count": 1,
   "id": "dfcdb882",
   "metadata": {},
   "outputs": [
    {
     "name": "stdout",
     "output_type": "stream",
     "text": [
      "gcd(12378, 3054) = 6\n",
      "Solution to 12378x + 3054y = 6: x = 132, y = -535\n"
     ]
    }
   ],
   "source": [
    "#gcd 구현 함수 (재귀)\n",
    "def gcd(a, b):\n",
    "    if b == 0:\n",
    "        return a, 1, 0  # gcd, x, y\n",
    "    else:\n",
    "        d, x1, y1 = gcd(b, a % b)\n",
    "        x = y1\n",
    "        y = x1 - (a // b) * y1\n",
    "        return d, x, y\n",
    "\n",
    "#main 함수\n",
    "a, b = 12378, 3054\n",
    "g, x, y = gcd(a, b)\n",
    "print(f\"gcd({a}, {b}) = {g}\")\n",
    "print(f\"Solution to {a}x + {b}y = {g}: x = {x}, y = {y}\")\n"
   ]
  },
  {
   "cell_type": "code",
   "execution_count": null,
   "id": "c561f05d",
   "metadata": {},
   "outputs": [],
   "source": []
  }
 ],
 "metadata": {
  "kernelspec": {
   "display_name": "Python 3",
   "language": "python",
   "name": "python3"
  },
  "language_info": {
   "codemirror_mode": {
    "name": "ipython",
    "version": 3
   },
   "file_extension": ".py",
   "mimetype": "text/x-python",
   "name": "python",
   "nbconvert_exporter": "python",
   "pygments_lexer": "ipython3",
   "version": "3.10.12"
  }
 },
 "nbformat": 4,
 "nbformat_minor": 5
}
