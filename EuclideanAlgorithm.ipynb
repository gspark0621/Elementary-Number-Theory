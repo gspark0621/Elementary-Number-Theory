{
 "cells": [
  {
   "cell_type": "markdown",
   "id": "07138198",
   "metadata": {},
   "source": [
    "# Euclidean Algorithm\n",
    "##### 두 정수의 최대공약수를 구하는 방식"
   ]
  },
  {
   "cell_type": "markdown",
   "id": "37667a49",
   "metadata": {},
   "source": [
    "- 두 정수 a,b의 최대 공약수를 gcd(a,b)라고 한다. $\\newline$\n",
    "a $\\geq$ b $>$ 0라고 하자.(b $\\geq$ a $>$ 0여도 상관없다.)\n",
    "$\\newline$\n",
    "    나눗셈 정리에 의해\n",
    "$\\newline$\n",
    "a = $q_1$ b+ $r_1$ (0 $\\leq$ $r_1$ $\\leq$ b) $\\newline$\n",
    "b = $q_2$ $r_1$ + $r_2$ (0 $\\leq$ $r_2$ $\\leq$ $r_1$) $\\newline$\n",
    "$r_1$ = $q_3$ $r_2$ + $r_3$ (0 $\\leq$ $r_3$ $\\leq$ $r_2$) $\\newline$\n",
    "$\\vdots$ $\\newline$ \n",
    "$r_{n-2}$ = $q_n$ $r_{n-1}$ + $r_n$ (0 $\\leq$ $r_n$ $\\leq$ $r_{n-1}$) $\\newline$\n",
    "$r_{n-1}$ = $q_{n+1}$ $r_n$ + 0\n"
   ]
  },
  {
   "cell_type": "markdown",
   "id": "38f1a6fd",
   "metadata": {},
   "source": [
    "- Ex. gcd(12378, 3054)\n",
    "    $\\newline 12378 = 4 \\cdot 3054 + 162$\n",
    "    $\\newline 3054 = 18 \\cdot 162 + 138$\n",
    "    $\\newline 162 = 1 \\cdot 138 + 24$\n",
    "    $\\newline 138 = 5 \\cdot 24 + 18$\n",
    "    $\\newline 24 = 1 \\cdot 18 + 6$\n",
    "    $\\newline 18 = 3 \\cdot 6 + 0$\n",
    "    $\\newline$ 따라서 gcd(12378,3054) = 6 "
   ]
  },
  {
   "cell_type": "markdown",
   "id": "0e435729",
   "metadata": {},
   "source": [
    "-   $\\newline 6 = 24 - 1 \\cdot 18$\n",
    "    $\\newline \\quad= 24 - (138 - 5 \\cdot 24) $\n",
    "    $\\newline \\quad= 6 \\cdot 24 - 138 $\n",
    "    $\\newline \\quad= 6 \\cdot (162 - 138) - 138$\n",
    "    $\\newline \\quad= 6 \\cdot 162 - 7 \\cdot 138$\n",
    "    $\\newline \\quad= 6 \\cdot 162 - 7 \\cdot (3054 - 18 \\cot 162)$\n",
    "    $\\newline \\quad= 132 \\cdot 162 - 7 \\cdot 3054 $\n",
    "    $\\newline \\quad= 132 \\cdot (12378- 4 \\cdot 3054) - 7 \\cdot 3054 $\n",
    "    $\\newline \\quad= 132 \\cdot 12378 - (-535) \\cdot 3054 $\n",
    "    $\\newline$ 따라서 x= 132, y = -535인 식\n",
    "    $\\newline$ 6 = 12378x+3054y 를 얻음."
   ]
  },
  {
   "cell_type": "markdown",
   "id": "be6e4f07",
   "metadata": {},
   "source": [
    "- 0이 아닌 두 정수 a,b의 최소공배수는 lcm(a,b)로 표현하며, 다음의 공식이 성립한다.\n",
    "    $\\newline gcd(a,b) \\cdot lcm(a,b) = ab $\n"
   ]
  },
  {
   "cell_type": "markdown",
   "id": "99ed266b",
   "metadata": {},
   "source": []
  }
 ],
 "metadata": {
  "language_info": {
   "name": "python"
  }
 },
 "nbformat": 4,
 "nbformat_minor": 5
}
