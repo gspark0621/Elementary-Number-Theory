{
 "cells": [
  {
   "cell_type": "markdown",
   "id": "07138198",
   "metadata": {},
   "source": [
    "# Conguruent\n",
    "##### 합동"
   ]
  },
  {
   "cell_type": "markdown",
   "id": "37667a49",
   "metadata": {},
   "source": [
    "- 합동의 정의(Definition)\n",
    "    - n을 주어진 양의 정수라 하자. a-b를 n이 나누면 즉, 어떤 정수 k에 대해 $a-b = kn$이라면\n",
    "    \n",
    "        두개의 정수 a와 b를 법(또는 모듈로) n에 대해 합동(congruent modulo n)이라 말하며\n",
    "    \n",
    "        기호로 표현하면 $a ≡b(mod \\, n)$\n",
    "    - Ex.\n",
    "\n",
    "        $a = 3,\\, b = 24, \\,n = 7$\n",
    "\n",
    "        $a-b = -21 \\mid 7 $이므로\n",
    "\n",
    "        $3 ≡ 24(mod$ $7) $\n",
    "    - 즉, $n \\mid (a-b)$라면 \"a는 법 n에 대해 b와 합동이다(congruent to b modulo n)\" $ \\Leftrightarrow a ≡b(mod \\, n)$\n",
    "\n",
    "        $n ∤ (a-b)$라면 \"a는 법 n에 대해 b와 합동이 아니다(incongruent to b modulo n)\" $ \\Leftrightarrow a  \\not\\equiv b(mod \\, n)$\n",
    "- 어떤 두 정수도 modulo 1에 대해 합동이고,\n",
    "\n",
    "    두 정수가 모두 짝수이거나 홀수일 때, modulo 2에 대해 합동이다.\n",
    "- 주어진 양의 정수 a에 대해 q와 r을 n으로 나누었을 때의 몫과 나머지라 하면\n",
    "\n",
    "    $a = qn+r$\n",
    "    - 합동의 정의에 의해 a ≡r(mod \\, n)\n",
    "    - r은 n개의 선택이 가능하므로 모든 정수는 modulo n에 대해 0, 1, 2, ..., n-1의 값 중 정확히 하나와 합동이다.\n",
    "        - 0, 1 ,2, ..., n-1의 집합을 modulo n에 대한 음이 아닌 최소잉여류(least nonnegative residues modulo n)의 집합이라 부른다. \n",
    "    - $a ≡0(mod \\, n)$일 필요충분조건은 $n \\mid a$이다.\n",
    "- 일반적으로 n개의 정수 $a_1, a_2, ..., a_n$의 모임은 모든 정수가 modulo n에 대해 정확히 하나의 $a_k$와 합동이면 modulo n에 대한 완전 잉여집합(또는 완전잉여제)(complete system of residues or comple system of residues modulo n)를 형성한다고 말한다.\n",
    "    -Ex. -12, -4, 11, 13 ,22, 82, 91은 modulo 7에 대해 완전 잉여집합을 이룬다.\n",
    "\n",
    "    $-12≡2$(mod 7), $-4≡3$(mod 7), $11≡4$(mod 7), $13≡6$(mod 7), $22≡1$(mod 7), $82≡5$(mod 7), $91≡0$(mod 7)\n",
    "\n",
    "    - 어떤 n개의 정수가 modulo n에 대해 완전 잉여집합을 형성할 필요충분조건은 어떤 두개의 정수도 modulo n에 대해 합동이 아니다.\n",
    "- 합동의 정리\n",
    "    - 임의의 정수 a와 b에 대해 $a ≡ b$(mod n)일 필요충분조건은 a와 b는 n으로 나누었을 때, 음이 아닌 같은 나머지를 가진다는 것이다.\n",
    "    - n>1이 고정되고 a,b,c,d를 임의의 정수라 하자. 그러면 다음의 성질이 성립한다.\n",
    "        1. $a ≡ a$(mod n)\n",
    "        2. $a ≡ b$(mod n)이면, $b ≡ a$(mod n)이다.\n",
    "        3. $a ≡ b$(mod n)이고 $b ≡ c$(mod n)이면, $a ≡ c$(mod n)이다.\n",
    "        4. $a ≡ b$(mod n)이고, $c ≡ d$(mod n)이면 $a+c ≡ b+d$(mod n)이고, $ac ≡ bd$(mod n)이다.\n",
    "        5. $a ≡ b$(mod n)이면, $a+c ≡ b+c$(mod n)이고, $ac ≡ bc$(mod n)이다.\n",
    "        6. $a ≡ b$(mod n)이면, 모든 양의 정수 k에 대해 $a^k ≡ b^k$(mod n)이다.\n",
    "    - 만약 $ca ≡ cb$(mod n)이면, $a ≡ b$(mod $n/d$), $d = gcd(c,n)$이다."
   ]
  },
  {
   "cell_type": "markdown",
   "id": "7f626c95",
   "metadata": {},
   "source": [
    "# 코드로구현하기"
   ]
  },
  {
   "cell_type": "markdown",
   "id": "99ed266b",
   "metadata": {},
   "source": [
    "이를 코드로 구현하면 다음과 같다."
   ]
  },
  {
   "cell_type": "code",
   "execution_count": 3,
   "id": "dfcdb882",
   "metadata": {},
   "outputs": [
    {
     "name": "stdout",
     "output_type": "stream",
     "text": [
      "congruent(3, 5, 7) = True\n"
     ]
    }
   ],
   "source": [
    "import math\n",
    "##코드로 구현현\n",
    "# gcd 구현 함수 (확장 유클리드 알고리즘)\n",
    "def congruent(a,b, n) -> bool:\n",
    "    if a == 0:\n",
    "        return b % n\n",
    "    else:\n",
    "        return congruent(b % a, a, n)\n",
    "\n",
    "# 테스트\n",
    "if __name__ == \"__main__\":\n",
    "    a = 3\n",
    "    b = 5\n",
    "    n = 7\n",
    "    result = congruent(a, b, n)\n",
    "    if result:\n",
    "        print(f\"congruent({a}, {b}, {n}) = True\")\n",
    "    else:\n",
    "        print(f\"congruent({a}, {b}, {n}) = False\")\n"
   ]
  }
 ],
 "metadata": {
  "kernelspec": {
   "display_name": "Python 3",
   "language": "python",
   "name": "python3"
  },
  "language_info": {
   "codemirror_mode": {
    "name": "ipython",
    "version": 3
   },
   "file_extension": ".py",
   "mimetype": "text/x-python",
   "name": "python",
   "nbconvert_exporter": "python",
   "pygments_lexer": "ipython3",
   "version": "3.10.12"
  }
 },
 "nbformat": 4,
 "nbformat_minor": 5
}
