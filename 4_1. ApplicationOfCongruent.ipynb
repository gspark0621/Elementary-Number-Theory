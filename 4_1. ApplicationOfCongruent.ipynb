{
 "cells": [
  {
   "cell_type": "markdown",
   "id": "07138198",
   "metadata": {},
   "source": [
    "# Application of Conguruent\n",
    "##### 합동의 응용 - 이진 진수 알고리즘(mod 계산)"
   ]
  },
  {
   "cell_type": "markdown",
   "id": "37667a49",
   "metadata": {},
   "source": [
    "- 합동의 정의(Definition)\n",
    "    - n을 주어진 양의 정수라 하자. a-b를 n이 나누면 즉, 어떤 정수 k에 대해 $a-b = kn$이라면\n",
    "    \n",
    "        두개의 정수 a와 b를 법(또는 모듈로) n에 대해 합동(congruent modulo n)이라 말하며\n",
    "    \n",
    "        기호로 표현하면 $a ≡b(mod \\, n)$\n",
    "    - Ex.\n",
    "\n",
    "        $a = 3,\\, b = 24, \\,n = 7$\n",
    "\n",
    "        $a-b = -21 \\mid 7 $이므로\n",
    "\n",
    "        $3 ≡ 24(mod$ $7) $\n",
    "    - 즉, $n \\mid (a-b)$라면 \"a는 법 n에 대해 b와 합동이다(congruent to b modulo n)\" $ \\Leftrightarrow a ≡b(mod \\, n)$\n",
    "\n",
    "        $n ∤ (a-b)$라면 \"a는 법 n에 대해 b와 합동이 아니다(incongruent to b modulo n)\" $ \\Leftrightarrow a  \\not\\equiv b(mod \\, n)$\n",
    "- 정리 1. 주어진 정수 b>1에 대해 모든 양의 정수 N은 다음과 같이 b의 거듭제곱의 항들로 유일하게 나타낼 수 있다.\n",
    "    \n",
    "    $N=a_mb^m+a_{m-1}b^{m-1}+\\cdots+ a_2b^2+a_1b^1+a_0$\n",
    "- 이를 이용하여 매우 큰 수에 대한 mod 계산도 쉽게 이루어 질 수 있다.\n",
    "    - $5^{110} \\,(mod \\, 131)$을 계산하시오\n",
    "        1. 먼저 지수 110을 이진 형태로 다음과 같이 표현한다.\n",
    "\n",
    "            110 = 64+32+8+4+2 = $(110110)_2$\n",
    "        2. 각 단계마다 결과를 modulus 131로 줄이면서 계속 제곱하여 $0 \\leq j \\leq 6$에 대해 거듭제곱 $5^{2j}(mod\\,131)$를 얻는다.\n",
    "\n",
    "            $5^2 \\equiv 25 \\,\\, (mod \\,131)\\,\\,\\,\\,\\,\\,\\,\\,\\,5^{16} \\equiv 27 \\,\\, (mod \\,131)$\n",
    "\n",
    "            $5^4 \\equiv 101 \\,\\, (mod \\,131)\\,\\,\\,\\,\\,\\,5^{32} \\equiv 74 \\,\\, (mod \\,131)$\n",
    "            \n",
    "            $5^8 \\equiv 114 \\,\\, (mod \\,131)\\,\\,\\,\\,\\,\\,5^{64} \\equiv 105 \\,\\, (mod \\,131)$\n",
    "        3. 2가지 풀이의 경우가 존재\n",
    "                    \n",
    "           1. $\\,5^{110} = 5^{64+32+8+4+2}$\n",
    "           \n",
    "                $ \\,\\,\\,\\,\\,\\,\\,\\,\\,\\,\\,\\,= 5^{64} \\cdot 5^{32} \\cdot 5^{8} \\cdot 5^{4} \\cdot 5^{2}$\n",
    "\n",
    "                $ \\,\\,\\,\\,\\,\\,\\,\\,\\,\\,\\,\\,= 105 \\cdot 74 \\cdot 114 \\cdot 101 \\cdot 25 \\equiv 60(mod \\, 131) $\n",
    "            2. $\\,5^{110} = 5^{96(64+32)+12(8+4)+2}$\n",
    "           \n",
    "                $ \\,\\,\\,\\,\\,\\,\\,\\,\\,\\,\\,\\,= 5^{96} \\cdot 5^{12} \\cdot 5^{2}$\n",
    "\n",
    "                $ \\,\\,\\,\\,\\,\\,\\,\\,\\,\\,\\,\\,= 41 \\cdot 117 \\cdot 25 \\equiv 60(mod \\, 131) $\n",
    "\n",
    "                두번째 방식으로는 2개의 곱셈이 덜 요구됨."
   ]
  },
  {
   "cell_type": "markdown",
   "id": "7f626c95",
   "metadata": {},
   "source": [
    "# 코드로구현하기"
   ]
  },
  {
   "cell_type": "markdown",
   "id": "99ed266b",
   "metadata": {},
   "source": [
    "이를 코드로 구현하면 다음과 같다."
   ]
  },
  {
   "cell_type": "code",
   "execution_count": 1,
   "id": "dfcdb882",
   "metadata": {},
   "outputs": [
    {
     "name": "stdout",
     "output_type": "stream",
     "text": [
      "5^110 mod 131 = 60\n"
     ]
    }
   ],
   "source": [
    "# 이진 지수 알고리즘 (Binary Exponentiation)\n",
    "def binary_exponentiation(a, b, m):\n",
    "    result = 1\n",
    "    a = a % m\n",
    "    while b > 0:\n",
    "        if b % 2 == 1:\n",
    "            result = (result * a) % m\n",
    "        a = (a * a) % m\n",
    "        b //= 2\n",
    "    return result\n",
    "\n",
    "# 테스트\n",
    "a = 5\n",
    "b = 110\n",
    "m = 131\n",
    "result = binary_exponentiation(a, b, m)\n",
    "\n",
    "# 결과 출력\n",
    "print(f\"{a}^{b} mod {m} = {result}\")\n"
   ]
  }
 ],
 "metadata": {
  "kernelspec": {
   "display_name": "Python 3",
   "language": "python",
   "name": "python3"
  },
  "language_info": {
   "codemirror_mode": {
    "name": "ipython",
    "version": 3
   },
   "file_extension": ".py",
   "mimetype": "text/x-python",
   "name": "python",
   "nbconvert_exporter": "python",
   "pygments_lexer": "ipython3",
   "version": "3.10.12"
  }
 },
 "nbformat": 4,
 "nbformat_minor": 5
}
